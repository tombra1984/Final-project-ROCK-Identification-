{
 "cells": [
  {
   "cell_type": "code",
   "execution_count": 1,
   "metadata": {},
   "outputs": [
    {
     "name": "stdout",
     "output_type": "stream",
     "text": [
      "Random Forest Classifier Accuracy: 0.9813167259786477\n"
     ]
    }
   ],
   "source": [
    "# #using 6 different classifiers and after adjusting the descriptions to 20 for the combined dataset\n",
    "\n",
    "import pandas as pd\n",
    "from sklearn.model_selection import train_test_split\n",
    "from sklearn.ensemble import RandomForestClassifier\n",
    "from sklearn.svm import SVC\n",
    "from sklearn.neighbors import KNeighborsClassifier\n",
    "from sklearn.naive_bayes import GaussianNB\n",
    "from sklearn.ensemble import GradientBoostingClassifier\n",
    "from sklearn.linear_model import LogisticRegression\n",
    "\n",
    "# Load the combined results\n",
    "combined_results_path = r\"C:\\Users\\Tombra\\New folder\\combined_results_new_4.csv\"  # used not avg probabilities\n",
    "combined_results = pd.read_csv(combined_results_path)\n",
    "\n",
    "# Split the data into features (probabilities) and target (ROCK NAME)\n",
    "features = combined_results.iloc[:, 1:]  # Exclude the ROCK NAME column\n",
    "target = combined_results[\"ROCK NAME\"]\n",
    "\n",
    "# Split the data into train and test sets\n",
    "X_train, X_test, y_train, y_test = train_test_split(features, target, test_size=0.2, random_state=42)\n",
    "\n",
    "# Train and evaluate Random Forest Classifier\n",
    "rf_classifier = RandomForestClassifier()\n",
    "rf_classifier.fit(X_train, y_train)\n",
    "rf_accuracy = rf_classifier.score(X_test, y_test)\n",
    "print(\"Random Forest Classifier Accuracy:\", rf_accuracy)\n",
    "\n",
    "# Train and evaluate Support Vector Classifier\n",
    "svc_classifier = SVC()\n",
    "svc_classifier.fit(X_train, y_train)\n",
    "svc_accuracy = svc_classifier.score(X_test, y_test)\n",
    "print(\"Support Vector Classifier Accuracy:\", svc_accuracy)\n",
    "\n",
    "# Train and evaluate K-Nearest Neighbors Classifier\n",
    "knn_classifier = KNeighborsClassifier()\n",
    "knn_classifier.fit(X_train, y_train)\n",
    "knn_accuracy = knn_classifier.score(X_test, y_test)\n",
    "print(\"K-Nearest Neighbors Classifier Accuracy:\", knn_accuracy)\n",
    "\n",
    "# Train and evaluate Naive Bayes Classifier\n",
    "nb_classifier = GaussianNB()\n",
    "nb_classifier.fit(X_train, y_train)\n",
    "nb_accuracy = nb_classifier.score(X_test, y_test)\n",
    "print(\"Naive Bayes Classifier Accuracy:\", nb_accuracy)\n",
    "\n",
    "# Train and evaluate Gradient Boosting Classifier\n",
    "gb_classifier = GradientBoostingClassifier()\n",
    "gb_classifier.fit(X_train, y_train)\n",
    "gb_accuracy = gb_classifier.score(X_test, y_test)\n",
    "print(\"Gradient Boosting Classifier Accuracy:\", gb_accuracy)\n",
    "\n",
    "# Train and evaluate Logistic Regression Classifier\n",
    "lr_classifier = LogisticRegression()\n",
    "lr_classifier.fit(X_train, y_train)\n",
    "lr_accuracy = lr_classifier.score(X_test, y_test)\n",
    "print(\"Logistic Regression Classifier Accuracy:\", lr_accuracy)\n"
   ]
  }
 ],
 "metadata": {
  "kernelspec": {
   "display_name": "base",
   "language": "python",
   "name": "python3"
  },
  "language_info": {
   "codemirror_mode": {
    "name": "ipython",
    "version": 3
   },
   "file_extension": ".py",
   "mimetype": "text/x-python",
   "name": "python",
   "nbconvert_exporter": "python",
   "pygments_lexer": "ipython3",
   "version": "3.10.9"
  },
  "orig_nbformat": 4
 },
 "nbformat": 4,
 "nbformat_minor": 2
}
